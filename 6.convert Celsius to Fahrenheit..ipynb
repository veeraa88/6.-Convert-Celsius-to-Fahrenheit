{
 "cells": [
  {
   "cell_type": "code",
   "execution_count": null,
   "id": "3375ddea-f889-4555-a098-1d045cf0aebd",
   "metadata": {},
   "outputs": [],
   "source": [
    "## Write a Python program to convert Celsius to Fahrenheit."
   ]
  },
  {
   "cell_type": "code",
   "execution_count": 7,
   "id": "88fff6ff-4800-43a9-ba6b-0e9e14e4835f",
   "metadata": {},
   "outputs": [
    {
     "name": "stdin",
     "output_type": "stream",
     "text": [
      "Enter temperature in Celsius:  23.2\n"
     ]
    },
    {
     "name": "stdout",
     "output_type": "stream",
     "text": [
      "23.2 degrees Celsius is equal to 73.75999999999999 degrees Fahrenheit\n"
     ]
    }
   ],
   "source": [
    "celsius = float(input(\"Enter temperature in Celsius: \"))\n",
    "fahrenheit = (celsius * 9/5) + 32\n",
    "print(f\"{celsius} degrees Celsius is equal to {fahrenheit} degrees Fahrenheit\")"
   ]
  },
  {
   "cell_type": "code",
   "execution_count": null,
   "id": "fbe46dc4-1d88-42ea-901c-e7b3f9b6f9e0",
   "metadata": {},
   "outputs": [],
   "source": []
  },
  {
   "cell_type": "code",
   "execution_count": null,
   "id": "60633c63-0b7f-46ab-8f1e-399d6e012d13",
   "metadata": {},
   "outputs": [],
   "source": []
  }
 ],
 "metadata": {
  "kernelspec": {
   "display_name": "Python [conda env:base] *",
   "language": "python",
   "name": "conda-base-py"
  },
  "language_info": {
   "codemirror_mode": {
    "name": "ipython",
    "version": 3
   },
   "file_extension": ".py",
   "mimetype": "text/x-python",
   "name": "python",
   "nbconvert_exporter": "python",
   "pygments_lexer": "ipython3",
   "version": "3.12.7"
  }
 },
 "nbformat": 4,
 "nbformat_minor": 5
}
